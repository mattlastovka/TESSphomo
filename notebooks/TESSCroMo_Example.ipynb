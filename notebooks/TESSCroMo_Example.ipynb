{
 "cells": [
  {
   "cell_type": "code",
   "execution_count": null,
   "id": "22ae9d00-1701-4ff4-a339-c101f4f24f57",
   "metadata": {},
   "outputs": [],
   "source": [
    "import matplotlib.pyplot as plt\n",
    "import lightkurve as lk\n",
    "\n"
   ]
  },
  {
   "cell_type": "code",
   "execution_count": null,
   "id": "041c9c21-fef1-4c68-b626-22e1bb99eb9b",
   "metadata": {},
   "outputs": [],
   "source": [
    "from TESSCroMo.tesscromo import TESSTargetPixelModeler"
   ]
  },
  {
   "cell_type": "code",
   "execution_count": null,
   "id": "75a97520-8b57-40a6-b0e4-dd527facf5a0",
   "metadata": {},
   "outputs": [],
   "source": [
    "search_result = lk.search_targetpixelfile('Kepler-10', mission='TESS', )\n",
    "search_result"
   ]
  },
  {
   "cell_type": "code",
   "execution_count": null,
   "id": "2e828a7d-c426-40be-86ad-bd9d4512dbfa",
   "metadata": {},
   "outputs": [],
   "source": [
    "tpf = search_result[17].download()"
   ]
  },
  {
   "cell_type": "code",
   "execution_count": null,
   "id": "f4b91791-3cc1-4be8-a439-2289589ba225",
   "metadata": {},
   "outputs": [],
   "source": [
    "TESSCrowd = TESSTargetPixelModeler(tpf)"
   ]
  },
  {
   "cell_type": "code",
   "execution_count": null,
   "id": "85160a02-7c88-4909-98ca-7802cdfbb868",
   "metadata": {},
   "outputs": [],
   "source": [
    "dx, dy = TESSCrowd.estimate_offset()\n",
    "tpfmodel, w1,w2 = TESSCrowd.fit_tpf_model( use_err=True, dx=dx, dy=dy)"
   ]
  },
  {
   "cell_type": "code",
   "execution_count": null,
   "id": "a30463a1-aca4-4e20-a368-63016d42627d",
   "metadata": {},
   "outputs": [],
   "source": [
    "TESSCrowd.plot_tpf_model(logscale=False, vmax=1e3)"
   ]
  },
  {
   "cell_type": "code",
   "execution_count": null,
   "id": "c64158d3-ded4-4b65-abed-5ae2f13d2a36",
   "metadata": {},
   "outputs": [],
   "source": [
    "TESSCrowd.get_contamination_ratio(aperture=tpf.pipeline_mask)"
   ]
  },
  {
   "cell_type": "code",
   "execution_count": null,
   "id": "a58280de-6ec5-459b-96de-5c243f4c7910",
   "metadata": {},
   "outputs": [],
   "source": []
  }
 ],
 "metadata": {
  "kernelspec": {
   "display_name": "Python 3 (ipykernel)",
   "language": "python",
   "name": "python3"
  },
  "language_info": {
   "codemirror_mode": {
    "name": "ipython",
    "version": 3
   },
   "file_extension": ".py",
   "mimetype": "text/x-python",
   "name": "python",
   "nbconvert_exporter": "python",
   "pygments_lexer": "ipython3",
   "version": "3.9.13"
  }
 },
 "nbformat": 4,
 "nbformat_minor": 5
}
